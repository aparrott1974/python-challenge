{
 "cells": [
  {
   "cell_type": "code",
   "execution_count": 1,
   "metadata": {},
   "outputs": [],
   "source": [
    "# our task is to create a Python script that analyzes the records to calculate each of the following:\n"
   ]
  },
  {
   "cell_type": "code",
   "execution_count": 2,
   "metadata": {},
   "outputs": [],
   "source": [
    "# Import Dependencies\n",
    "import pandas as pd\n"
   ]
  },
  {
   "cell_type": "code",
   "execution_count": 3,
   "metadata": {},
   "outputs": [
    {
     "name": "stdout",
     "output_type": "stream",
     "text": [
      "budget_data_1.csv\n",
      "budget_data_2.csv\n"
     ]
    }
   ],
   "source": [
    "# check my Resouces file\n",
    "!ls Resources/"
   ]
  },
  {
   "cell_type": "code",
   "execution_count": 4,
   "metadata": {},
   "outputs": [],
   "source": [
    "# Create reference to CSV file\n",
    "csv_path = \"Resources/budget_data_1.csv\""
   ]
  },
  {
   "cell_type": "code",
   "execution_count": 5,
   "metadata": {},
   "outputs": [],
   "source": [
    "# Import the CSV into a pandas DataFrame\n",
    "budget_data_df = pd.read_csv(csv_path)    #, low_memory=False)\n",
    "\n",
    "# take a look at the head to see if it looks right\n",
    "# budget_data_df.head()\n",
    "# first column is Date with a month and year, second column is Revenue as integer"
   ]
  },
  {
   "cell_type": "code",
   "execution_count": 6,
   "metadata": {},
   "outputs": [
    {
     "name": "stdout",
     "output_type": "stream",
     "text": [
      "Total Months: 41\n"
     ]
    }
   ],
   "source": [
    "# The total number of months included in the dataset\n",
    "\n",
    "mo_cnt = budget_data_df[\"Date\"].count()\n",
    "print(\"Total Months: \" + str(mo_cnt))"
   ]
  },
  {
   "cell_type": "code",
   "execution_count": 7,
   "metadata": {},
   "outputs": [
    {
     "name": "stdout",
     "output_type": "stream",
     "text": [
      "Total Revenue: $18971412\n"
     ]
    }
   ],
   "source": [
    "# The total amount of revenue gained over the entire period\n",
    "\n",
    "rev_sum = budget_data_df[\"Revenue\"].sum()\n",
    "print(\"Total Revenue: $\" + str(int(rev_sum)))"
   ]
  },
  {
   "cell_type": "code",
   "execution_count": 8,
   "metadata": {},
   "outputs": [
    {
     "name": "stdout",
     "output_type": "stream",
     "text": [
      "Average Change: $-6758\n"
     ]
    }
   ],
   "source": [
    "# The average change in revenue between months over the entire period\n",
    "\n",
    "mo_chg = budget_data_df.set_index('Date').diff()\n",
    "avg_chg = mo_chg.mean()\n",
    "print(\"Average Change: $\" + str(int(avg_chg)))"
   ]
  },
  {
   "cell_type": "code",
   "execution_count": 9,
   "metadata": {},
   "outputs": [
    {
     "name": "stdout",
     "output_type": "stream",
     "text": [
      "Greatest Increase in Revenue: Sep-15 $(1195111)\n"
     ]
    }
   ],
   "source": [
    "# The greatest increase in revenue (date and amount) over the entire period\n",
    "\n",
    "max_rev = budget_data_df[\"Revenue\"].max()\n",
    "max_rev_row = budget_data_df.loc[budget_data_df[\"Revenue\"] == max_rev,:]\n",
    "print(\"Greatest Increase in Revenue: \" + max_rev_row.iloc[0]['Date'] + \" $(\" + str(max_rev) + \")\")\n"
   ]
  },
  {
   "cell_type": "code",
   "execution_count": 15,
   "metadata": {},
   "outputs": [
    {
     "name": "stdout",
     "output_type": "stream",
     "text": [
      "Greatest Decrease in Revenue: Aug-14 $(-1172384)\n"
     ]
    }
   ],
   "source": [
    "# The greatest decrease in revenue (date and amount) over the entire period\n",
    "\n",
    "min_rev = budget_data_df[\"Revenue\"].min()\n",
    "min_rev_row = budget_data_df.loc[budget_data_df[\"Revenue\"] == min_rev,:]\n",
    "\n",
    "print(\"Greatest Decrease in Revenue: \" + min_rev_row.iloc[0]['Date'] + \" $(\" + str(min_rev)+ \")\")"
   ]
  },
  {
   "cell_type": "code",
   "execution_count": null,
   "metadata": {},
   "outputs": [],
   "source": []
  }
 ],
 "metadata": {
  "kernelspec": {
   "display_name": "Python [conda env:PythonData]",
   "language": "python",
   "name": "conda-env-PythonData-py"
  },
  "language_info": {
   "codemirror_mode": {
    "name": "ipython",
    "version": 3
   },
   "file_extension": ".py",
   "mimetype": "text/x-python",
   "name": "python",
   "nbconvert_exporter": "python",
   "pygments_lexer": "ipython3",
   "version": "3.6.4"
  }
 },
 "nbformat": 4,
 "nbformat_minor": 2
}
