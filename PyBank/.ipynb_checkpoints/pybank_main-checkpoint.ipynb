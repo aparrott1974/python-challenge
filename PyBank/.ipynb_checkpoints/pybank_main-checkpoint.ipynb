{
 "cells": [
  {
   "cell_type": "code",
   "execution_count": 1,
   "metadata": {},
   "outputs": [],
   "source": [
    "# our task is to create a Python script that analyzes the records to calculate each of the following:\n"
   ]
  },
  {
   "cell_type": "code",
   "execution_count": 2,
   "metadata": {},
   "outputs": [],
   "source": [
    "# Import Dependencies\n",
    "import pandas as pd\n",
    "import numpy"
   ]
  },
  {
   "cell_type": "code",
   "execution_count": 3,
   "metadata": {},
   "outputs": [],
   "source": [
    "# check my Resouces file\n",
    "#!ls Resources/"
   ]
  },
  {
   "cell_type": "code",
   "execution_count": 4,
   "metadata": {},
   "outputs": [],
   "source": [
    "# Create reference to CSV file\n",
    "csv_path = \"Resources/budget_data_2.csv\""
   ]
  },
  {
   "cell_type": "code",
   "execution_count": 5,
   "metadata": {},
   "outputs": [],
   "source": [
    "# Import the CSV into a pandas DataFrame\n",
    "budget_data_df = pd.read_csv(csv_path)    #, low_memory=False)\n",
    "\n",
    "# take a look at the head to see if it looks right\n",
    "# budget_data_df.head()\n",
    "# first column is Date with a month and year, second column is Revenue as integer"
   ]
  },
  {
   "cell_type": "code",
   "execution_count": 6,
   "metadata": {},
   "outputs": [
    {
     "name": "stdout",
     "output_type": "stream",
     "text": [
      "Total Months: 86\n"
     ]
    }
   ],
   "source": [
    "# The total number of months included in the dataset\n",
    "\n",
    "mo_cnt = budget_data_df[\"Date\"].count()\n",
    "print(\"Total Months: \" + str(mo_cnt))"
   ]
  },
  {
   "cell_type": "code",
   "execution_count": 7,
   "metadata": {},
   "outputs": [
    {
     "name": "stdout",
     "output_type": "stream",
     "text": [
      "Total Revenue: $36973911\n"
     ]
    }
   ],
   "source": [
    "# The total amount of revenue gained over the entire period\n",
    "\n",
    "rev_sum = budget_data_df[\"Revenue\"].sum()\n",
    "print(\"Total Revenue: $\" + str(int(rev_sum)))"
   ]
  },
  {
   "cell_type": "code",
   "execution_count": 8,
   "metadata": {},
   "outputs": [
    {
     "name": "stdout",
     "output_type": "stream",
     "text": [
      "Average Change: $-5955\n"
     ]
    }
   ],
   "source": [
    "# The average change in revenue between months over the entire period\n",
    "\n",
    "mo_chg = budget_data_df.set_index('Date').diff()\n",
    "avg_chg = mo_chg.mean()\n",
    "print(\"Average Change: $\" + str(int(avg_chg)))"
   ]
  },
  {
   "cell_type": "code",
   "execution_count": 40,
   "metadata": {},
   "outputs": [
    {
     "name": "stdout",
     "output_type": "stream",
     "text": [
      "Greatest Increase in Revenue: Jul-2014 $(1645140.0)\n"
     ]
    }
   ],
   "source": [
    "# The greatest increase in revenue (date and amount) over the entire period\n",
    "\n",
    "max_rev = mo_chg[\"Revenue\"].max()  # this gives me the greatest increas\n",
    "\n",
    "# get the date of when the greatest increase happened\n",
    "\n",
    "max_rev_date = mo_chg.index[mo_chg[\"Revenue\"] == max_rev][0]\n",
    "\n",
    "print(\"Greatest Increase in Revenue: \" + str(max_rev_date) + \" $(\" + str(max_rev) + \")\")\n"
   ]
  },
  {
   "cell_type": "code",
   "execution_count": 42,
   "metadata": {},
   "outputs": [
    {
     "name": "stdout",
     "output_type": "stream",
     "text": [
      "Greatest Decrease in Revenue: Jun-2014 $(-1947745.0)\n"
     ]
    }
   ],
   "source": [
    "# The greatest decrease in revenue (date and amount) over the entire period\n",
    "\n",
    "min_rev = mo_chg[\"Revenue\"].min()  # this gives me the greatest decrease\n",
    "\n",
    "min_rev_date = mo_chg.index[mo_chg[\"Revenue\"] == min_rev][0]\n",
    "\n",
    "print(\"Greatest Decrease in Revenue: \" + str(min_rev_date) + \" $(\" + str(min_rev)+ \")\")"
   ]
  },
  {
   "cell_type": "code",
   "execution_count": null,
   "metadata": {},
   "outputs": [],
   "source": []
  },
  {
   "cell_type": "code",
   "execution_count": null,
   "metadata": {},
   "outputs": [],
   "source": []
  },
  {
   "cell_type": "code",
   "execution_count": null,
   "metadata": {},
   "outputs": [],
   "source": []
  }
 ],
 "metadata": {
  "kernelspec": {
   "display_name": "Python 3",
   "language": "python",
   "name": "python3"
  },
  "language_info": {
   "codemirror_mode": {
    "name": "ipython",
    "version": 3
   },
   "file_extension": ".py",
   "mimetype": "text/x-python",
   "name": "python",
   "nbconvert_exporter": "python",
   "pygments_lexer": "ipython3",
   "version": "3.6.4"
  }
 },
 "nbformat": 4,
 "nbformat_minor": 2
}
